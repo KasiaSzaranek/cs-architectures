{
 "cells": [
  {
   "cell_type": "markdown",
   "metadata": {},
   "source": [
    "# Simulates a 4 bit Von Neumann Architecture machine"
   ]
  },
  {
   "cell_type": "code",
   "execution_count": 3,
   "metadata": {},
   "outputs": [
    {
     "name": "stdout",
     "output_type": "stream",
     "text": [
      "Do you want to read or write?: read\n",
      "Which location do you want to access?: 212\n",
      "Invalid location\n"
     ]
    }
   ],
   "source": [
    "address = [\"dog\",\"horse\",\"mouse\",\"cat\",\"\",\"\",\"\",\"\",\"\",\"\",\"\",\"\",\"\",\"\",\"\",\"\"]\n",
    "\n",
    "rw = input(\"Do you want to read or write?: \")\n",
    "\n",
    "rw = rw.upper()\n",
    "\n",
    "location = int(input(\"Which location do you want to access?: \"))\n",
    "\n",
    "location = location - 1\n",
    "\n",
    "while location >= 1 and location <= 16:\n",
    "\n",
    "    if rw == \"READ\":\n",
    "\n",
    "        print(\"The CPU is sending\",bin(location),\"along the Address Bus\")\n",
    "        print(\"The CPU is sending READ along the Address Bus\")\n",
    "        print(\"The memory will respond by sending\", address[location],\"along to memory\", location,\" via the Data Bus\")\n",
    "\n",
    "    elif rw == \"WRITE\":\n",
    "\n",
    "        message = input(\"What message do you want to store inside that location?: \")\n",
    "\n",
    "        address[location] = message\n",
    "\n",
    "        print(\"The CPU is sending\",bin(location),\"along the Address Bus\")\n",
    "        print(\"The CPU is sending WRITE along the Address Bus\")\n",
    "        print(\"The memory will write the message inside that location\")\n",
    "\n",
    "        print(address[location])\n",
    "        print(address)\n",
    "\n",
    "    else:\n",
    "\n",
    "        print(\"Incorrect Value\")\n",
    "        \n",
    "    break\n",
    "    \n",
    "print (\"Invalid location\")"
   ]
  }
 ],
 "metadata": {
  "kernelspec": {
   "display_name": "Python 3",
   "language": "python",
   "name": "python3"
  },
  "language_info": {
   "codemirror_mode": {
    "name": "ipython",
    "version": 3
   },
   "file_extension": ".py",
   "mimetype": "text/x-python",
   "name": "python",
   "nbconvert_exporter": "python",
   "pygments_lexer": "ipython3",
   "version": "3.5.2"
  }
 },
 "nbformat": 4,
 "nbformat_minor": 2
}
